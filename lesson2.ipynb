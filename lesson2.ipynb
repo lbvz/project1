{
 "cells": [
  {
   "cell_type": "code",
   "execution_count": 1,
   "metadata": {},
   "outputs": [
    {
     "name": "stdout",
     "output_type": "stream",
     "text": [
      "56-57.8-robert-True-6-9-8-10\n"
     ]
    }
   ],
   "source": [
    "#python的變數建立\n",
    "n = 56\n",
    "m = 57.8\n",
    "name = 'robert'\n",
    "is_true = True\n",
    "\n",
    "print(n, m , name, is_true, 6, 9, 8,10,sep='-')"
   ]
  }
 ],
 "metadata": {
  "kernelspec": {
   "display_name": "Python 3",
   "language": "python",
   "name": "python3"
  },
  "language_info": {
   "codemirror_mode": {
    "name": "ipython",
    "version": 3
   },
   "file_extension": ".py",
   "mimetype": "text/x-python",
   "name": "python",
   "nbconvert_exporter": "python",
   "pygments_lexer": "ipython3",
   "version": "3.9.2"
  },
  "orig_nbformat": 4
 },
 "nbformat": 4,
 "nbformat_minor": 2
}
